{
 "cells": [
  {
   "cell_type": "code",
   "execution_count": 5,
   "metadata": {},
   "outputs": [],
   "source": [
    "from __future__ import print_function\n",
    "import pandas as pd\n",
    "import argparse\n",
    "import torch\n",
    "import json\n",
    "from torch import nn as nn\n",
    "import torch.nn.functional as F\n",
    "import torch.optim as optim\n",
    "from torch.utils.data import DataLoader, Dataset\n",
    "from torchvision import datasets, transforms\n",
    "from torch.optim.lr_scheduler import StepLR\n",
    "from __future__ import unicode_literals\n",
    "from hazm import *"
   ]
  },
  {
   "cell_type": "code",
   "execution_count": 32,
   "metadata": {},
   "outputs": [],
   "source": [
    "device = torch.device('cuda' if torch.cuda.is_available() else 'cpu')"
   ]
  },
  {
   "cell_type": "code",
   "execution_count": 33,
   "metadata": {},
   "outputs": [
    {
     "data": {
      "text/plain": [
       "device(type='cuda')"
      ]
     },
     "execution_count": 33,
     "metadata": {},
     "output_type": "execute_result"
    }
   ],
   "source": [
    "device"
   ]
  },
  {
   "cell_type": "code",
   "execution_count": 3,
   "metadata": {},
   "outputs": [],
   "source": [
    "df_train = pd.read_csv(\"./News/train.csv\", sep='\\t', error_bad_lines= False , encoding= 'utf-8')\n",
    "df_test = pd.read_csv(\"./News/test.csv\", sep='\\t', error_bad_lines= False , encoding= 'utf-8')"
   ]
  },
  {
   "cell_type": "code",
   "execution_count": 8,
   "metadata": {},
   "outputs": [],
   "source": [
    "class DataPreprocessor:\n",
    "    \n",
    "    def __init__(self, train_data=\"./News/train.csv\", test_data=\"./News/test.csv\", mode=\"train\"):\n",
    "        self.read_data(train_data, test_data)\n",
    "        self.plot_distribution(mode=mode)\n",
    "        self.clean_text(mode=mode)\n",
    "        self.count_words()\n",
    "        self.map_word_index()\n",
    "        setattr(self,f\"{mode}\", self.tokenizer())\n",
    "        \n",
    "        \n",
    "    def first_item(self):\n",
    "        return self.train_data[0]\n",
    "    \n",
    "    def read_data(self ,train_data, test_data):\n",
    "        self.train_data = pd.read_csv(train_data, sep=\"\\t\", error_bad_lines=False, encoding=\"utf-8\")\n",
    "        self.train_data = self.train_data.dropna(subset=['category'])\n",
    "        self.train_data = self.train_data.loc[self.train_data['category']!='category']\n",
    "        self.test_data = pd.read_csv(test_data, sep=\"\\t\", error_bad_lines=False, encoding=\"utf-8\")\n",
    "        self.test_data = self.test_data.dropna(subset=['category'])\n",
    "        self.test_data = self.test_data.loc[self.test_data['category']!='category']\n",
    "    \n",
    "    def plot_distribution(self, mode=\"train\"):\n",
    "        if mode==\"train\":\n",
    "            self.train_data['category'].value_counts(sort=False).plot(kind='bar')\n",
    "        else:\n",
    "            self.test_data['category'].value_counts(sort=False).plot(kind='bar')\n",
    "        \n",
    "    \n",
    "    def clean_text(self, mode=\"train\"):\n",
    "        ws = []\n",
    "        source = self.train_data.text\n",
    "        if mode==\"test\":\n",
    "            source = self.test_data.text\n",
    "        for a in source.astype(str):\n",
    "            w = [tk for tk in word_tokenize(a) if tk.isalpha()] + ['<eos>']\n",
    "            ws.append(w)\n",
    "        self.cleaned_data = ws\n",
    "        www = []\n",
    "        for w in self.cleaned_data:\n",
    "            ww = []\n",
    "            for item in w:\n",
    "                if \".\" in item:\n",
    "                    if item.split(\".\")[0]!='':\n",
    "                        ww.extend([item.split(\".\")[0]])\n",
    "                elif not item.encode().isalpha():\n",
    "                    ww.append(item)\n",
    "            www.append(ww)\n",
    "            \n",
    "        self.tokenized_data = www\n",
    "        print(www[:1])\n",
    "            \n",
    "    \n",
    "    def count_words(self):\n",
    "        www = self.tokenized_data\n",
    "        di = dict()\n",
    "        for ww in www:\n",
    "            for i in ww:\n",
    "                if i not in di:\n",
    "                    di[i] = 1\n",
    "                else:\n",
    "                    di[i]+=1\n",
    "        srt = sorted(di.items(), key=lambda item: item[1],reverse=True)\n",
    "        asrt = srt\n",
    "        self.tokens = asrt\n",
    "        with open(\"‫‪frequencies‬‬.txt\",\"w\") as file:\n",
    "            file.write(str(srt[:200]))\n",
    "        dictionary = dict(asrt)\n",
    "        print(f\"tokens={sum(di.values())}, and unique tokens are={len(srt)}\")\n",
    "        self.frequencies_dict = dictionary\n",
    "        self.n_tokens = sum(di.values())\n",
    "        self.n_unique_tokens = len(srt)\n",
    "\n",
    "    def map_word_index(self):\n",
    "        vocabs = self.frequencies_dict.keys()\n",
    "        self.word_to_index = {}\n",
    "        self.index_to_word = {}\n",
    "        for index , vocab in enumerate(vocabs):\n",
    "            self.index_to_word[index] = vocab\n",
    "            self.word_to_index[vocab] = index\n",
    "        print(\"Saving dictionary...\")\n",
    "        with open(\"‫‪indeces‬‬.json\",\"w\") as file:\n",
    "            json.dump(self.word_to_index, file, ensure_ascii=False)\n",
    "        print(\"Saving dictionary finished\")\n",
    "        \n",
    "    \n",
    "    def tokenizer(self):\n",
    "        www = []\n",
    "        for w in self.tokenized_data:\n",
    "            ww = []\n",
    "            for item in w:\n",
    "                ww.append(self.word_to_index[item])\n",
    "            www.append(torch.tensor(ww).type(torch.int64))\n",
    "            \n",
    "        self.tokenized_tokens = www\n",
    "        print(www[0])\n",
    "        return torch.cat(www)\n",
    "    "
   ]
  },
  {
   "cell_type": "code",
   "execution_count": 9,
   "metadata": {},
   "outputs": [
    {
     "name": "stdout",
     "output_type": "stream",
     "text": [
      "[['به', 'گزارش', 'خبرنگار', 'حوزه', 'میراث', 'و', 'فرهنگی', 'باشگاه', 'خبرنگاران', 'جوان', 'محمد', 'حسن', 'خان', 'اعتماد', 'السلطنه', 'به', 'نقل', 'از', 'برخی', 'منابع', 'اسفراین', 'چمن', 'کالپوش', 'چمن', 'کالپوش', 'بر', 'اساس', 'آنچه', 'در', 'اعتقادات', 'اهالی', 'منطقه', 'مشهود', 'است', 'آخرین', 'منزلگاه', 'داریوش', 'سوم', 'است', 'بنابراین', 'باید', 'دشت', 'اسفراین', 'را', 'جولانگاه', 'مقدونیان', 'دانست', 'این', 'دشت', 'از', 'دستبرد', 'و', 'سم', 'ستوران', 'یونانی', 'در', 'امان', 'بنا', 'بر', 'این', 'گزارش', 'شهر', 'اسفراین', 'امروزی', 'در', 'شمال', 'غربی', 'استان', 'خراسان', 'شمالی', 'قرار', 'این', 'شهر', 'دربرگیرنده', 'بیش', 'از', 'بقعه', 'از', 'بزرگان', 'و', 'امامزادگان', 'است', 'شایان', 'ذکر', 'است', 'شهر', 'فعلی', 'اسفراین', 'از', 'محله', 'تشکیل', 'شده', 'و', 'زیستگاه', 'حیواناتی', 'چون', 'آهو', 'گرگ', 'گورکن', 'خرگوش', 'روباه', 'گراز', 'پلنگ', 'کفتار', 'و', 'بز', 'کوهی', 'است', 'منطقه', 'ساری', 'گل', 'در', 'شمال', 'شرقی', 'اسفراین', 'قرار', 'گفتنی', 'است', 'ابوعبدلله', 'حمد', 'بن', 'احمد', 'مقدسی', 'در', 'خصوص', 'اسفراین', 'اسفراین', 'روستایی', 'بزرگ', 'و', 'مرکز', 'انگور', 'خوب', 'و', 'کشتزار', 'است', 'جاده', 'گرگان', 'آن', 'را', 'به', 'دو', 'نیمه', 'شهر', 'آن', 'به', 'همین', 'نام', 'است', 'آباد', 'و', 'گرانقدر', 'است', 'از', 'نهری', 'که', 'از', 'کوه', 'در', 'این', 'روستا', 'از', 'آن', 'نیست', 'مردم', 'آن', 'اهل', 'حدیثند', 'خاطرنشان', 'ابوعبدالله', 'الحاکم', 'مؤلف', 'تاریخ', 'نیشابور', 'نیز', 'اسفراین', 'را', 'شهری', 'خوش', 'آب', 'و', 'هوا', 'ذکر', 'است', 'و', 'قباد', 'پادشاه', 'ساسانی', 'نام', 'اسفراین', 'را', 'به', 'علت', 'داشتن', 'آب', 'و', 'هوای', 'خوب', 'مهرجان', 'است', '<eos>']]\n",
      "tokens=28964490, and unique tokens are=214074\n",
      "Saving dictionary...\n",
      "Saving dictionary finished\n",
      "tensor([     2,     35,     84,     88,   1483,      0,    165,     20,     24,\n",
      "            49,    222,    560,   3531,    917,  23395,      2,    105,      3,\n",
      "           132,    333,  13734,   6350,  56673,   6350,  56673,     16,    166,\n",
      "           644,      1,   6587,   2426,     91,   5789,      8,    324,  20941,\n",
      "          4769,    504,      8,    619,     33,   5719,  13734,      7,  30109,\n",
      "        117095,    680,      4,   5719,      3,  12824,      0,   5890, 117096,\n",
      "          9330,      1,   4127,   1249,     16,      4,     35,    111,  13734,\n",
      "          5565,      1,    752,    783,    114,   1027,    678,     36,      4,\n",
      "           111,  13650,    210,      3,  10863,      3,   3320,      0,   9148,\n",
      "             8,   2450,    795,      8,    111,   1407,  13734,      3,   1668,\n",
      "           393,     39,      0,  12444,  18910,    368,  16405,   9127,  72247,\n",
      "         19744,  11971,  30110,  11251,  51889,      0,  13735,   9773,      8,\n",
      "            91,   5261,    498,      1,    752,   1217,  13734,     36,    632,\n",
      "             8, 117097,   5655,    845,    892,   8110,      1,    112,  13734,\n",
      "         13734,   2164,    230,      0,    272,   7488,    421,      0,  62768,\n",
      "             8,   1360,   5601,     13,      7,      2,     43,    810,    111,\n",
      "            13,      2,    155,    191,      8,   1466,      0,   8111,      8,\n",
      "             3,  86654,      5,      3,   3754,      1,      4,   2559,      3,\n",
      "            13,    127,     48,     13,   1008, 117098,    405,  40722,  72248,\n",
      "         13268,    439,   7562,     32,  13734,      7,    695,   1784,    251,\n",
      "             0,    634,    795,      8,      0,  15662,   2710,  10826,    191,\n",
      "         13734,      7,      2,    479,    869,    251,      0,   1639,    421,\n",
      "         72249,      8,     15])\n",
      "[['به', 'گزارشحوزه', 'ادبیات', 'باشگاه', 'خبرنگاران', 'این', 'کتاب', 'شامل', 'عکس', 'های', 'هوایی', 'از', 'مناظر', 'ایران', 'با', 'شعرهایی', 'از', 'مولف', 'که', 'دل', 'نوشته', 'های', 'وی', 'روی', 'تصاویر', 'است', 'به', 'دو', 'زبان', 'فارسی', 'و', 'انگلیسی', 'طراحی', 'و', 'به', 'چاپ', 'این', 'کتاب', 'در', 'قطع', 'خشتی', 'و', 'صفحه', 'تمام', 'رنگی', 'با', 'تیراژ', 'عدد', 'توسط', 'نشر', 'تحریر', 'خیال', 'منتشر', 'شده', 'و', 'در', 'اختیار', 'علاقمندان', 'قرار', 'ویژگی', 'عکس', 'های', 'هوایی', 'این', 'کتاب', 'انتزاعی', 'بودن', 'تاکید', 'بر', 'فرم', 'و', 'جزئیات', 'تصاویر', 'می', 'باشد', 'که', 'کمتر', 'در', 'عکس', 'های', 'هوایی', 'عکاسان', 'ایرانی', 'یونس', 'کلاهدوز', 'استاد', 'خلبانی', 'است', 'که', 'زیادی', 'را', 'برای', 'ثبت', 'این', 'لحظه', 'ها', 'تلاش', 'نموده', 'و', 'در', 'مقدمهکتاب', 'چشم', 'آسمان', 'می', 'نویسد', 'این', 'کتاب', 'نگاهی', 'است', 'از', 'آسمان', 'به', 'زمین', 'و', 'زندگی', 'فارغ', 'از', 'قواعد', 'معمول', 'عکاسی', 'با', 'توجه', 'به', 'جزئیات', 'تصاویر', 'برخلاف', 'آنچه', 'در', 'عکس', 'های', 'هوایی', 'ایران', 'رایج', 'است', 'این', 'کتاب', 'عکس', 'نوشته', 'هایی', 'است', 'در', 'لحظه', 'های', 'منحصر', 'بفرد', 'و', 'شوق', 'انتقال', 'این', 'احساس', 'و', 'نگاه', 'به', 'مخاطبان', 'می', 'باشد', 'لازم', 'به', 'ذکر', 'است', 'پیش', 'از', 'این', 'عکاس', 'سوئیسی', 'به', 'نام', 'گئورگ', 'گریستر', 'با', 'شباهتهایی', 'به', 'لحاظ', 'سبک', 'عکاسی', 'ایران', 'از', 'آسمان', 'به', 'تصویر', 'که', 'نمایشگاهی', 'را', 'نیز', 'با', 'عنوان', 'بهشت', 'گمشده', 'بر', 'فراز', 'ایران', 'را', 'به', 'نمایش', 'درآورد', 'قیمت', 'پشت', 'جلد', 'این', 'کتاب', 'هزار', 'تومان', 'است', 'انتهای', '<eos>']]\n",
      "tokens=5241355, and unique tokens are=84795\n",
      "Saving dictionary...\n",
      "Saving dictionary finished\n",
      "tensor([    2,  9705,  1851,    20,    23,     4,   391,   588,  1291,    12,\n",
      "          699,     3, 13061,    26,     6, 37049,     3, 21106,     5,  1201,\n",
      "         1685,    12,    22,   122,  1073,     8,     2,    41,   735,  1942,\n",
      "            0,  1465,   695,     0,     2,  1287,     4,   391,     1,  1184,\n",
      "        22687,     0,  1016,   172,  3897,     6, 11143,  1550,   192,  2105,\n",
      "         8899,  4153,   487,    39,     0,     1,   527,  3782,    37,  1586,\n",
      "         1291,    12,   699,     4,   391, 16846,   396,   181,    16,  3414,\n",
      "            0,  1929,  1073,    10,    99,     5,   728,     1,  1291,    12,\n",
      "          699,  6093,   316,  7078, 18619,  1017, 10484,     8,     5,   274,\n",
      "            7,     9,   412,     4,  1286,    29,   182,  2834,     0,     1,\n",
      "        48833,   718,  2346,    10,  6699,     4,   391,  2697,     8,     3,\n",
      "         2346,     2,   484,     0,   267,  2775,     3,  5706,  2915,  5026,\n",
      "            6,    91,     2,  1929,  1073,  2624,   667,     1,  1291,    12,\n",
      "          699,    26,  3987,     8,     4,   391,  1291,  1685,   381,     8,\n",
      "            1,  1286,    12,  3171, 16847,     0,  5516,   545,     4,   862,\n",
      "            0,   609,     2,  1373,    10,    99,   218,     2,   776,     8,\n",
      "          104,     3,     4,  4315, 10275,     2,   189, 31196, 48834,     6,\n",
      "        48835,     2,   821,  1294,  5026,    26,     3,  2346,     2,  1220,\n",
      "            5,  5027,     7,    31,     6,    56,  3103,  7922,    16,  3255,\n",
      "           26,     7,     2,   349,  5176,   170,   768,  3898,     4,   391,\n",
      "           68,   147,     8,   131,    15])\n"
     ]
    },
    {
     "data": {
      "image/png": "[encoded data removed]",
      "text/plain": [
       "<Figure size 432x288 with 1 Axes>"
      ]
     },
     "metadata": {
      "needs_background": "light"
     },
     "output_type": "display_data"
    }
   ],
   "source": [
    "data_train = DataPreprocessor()\n",
    "data_test = DataPreprocessor(mode=\"test\")"
   ]
  },
  {
   "cell_type": "code",
   "execution_count": 30,
   "metadata": {},
   "outputs": [
    {
     "data": {
      "text/plain": [
       "[فرهنگی هنری, فرهنگی هنری, فرهنگی هنری, فرهنگی هنری, فرهنگی هنری, ..., ورزشی, ورزشی, ورزشی, ورزشی, ورزشی]\n",
       "Length: 117153\n",
       "Categories (10, object): [اجتماعی, اقتصادی, بین‌الملل, سیاسی, ..., فضای مجازی, فیلم و صوت, وب‌گردی, ورزشی]"
      ]
     },
     "execution_count": 30,
     "metadata": {},
     "output_type": "execute_result"
    }
   ],
   "source": [
    "pd.Categorical(data_train.train_data.category)"
   ]
  },
  {
   "cell_type": "code",
   "execution_count": 6,
   "metadata": {},
   "outputs": [],
   "source": [
    "class CustomDataset(Dataset):\n",
    "    \n",
    "    def __init__(self, text, label):\n",
    "        self.text = text\n",
    "        self.label = label\n",
    "        \n",
    "    def __len__(self):\n",
    "        assert len(self.text)==len(self.label)\n",
    "        return len(self.text)\n",
    "    \n",
    "    def __getitem__(self, idx):\n",
    "        return {\"text\": self.text[idx], \"label\": self.label[idx]}"
   ]
  },
  {
   "cell_type": "code",
   "execution_count": 23,
   "metadata": {},
   "outputs": [],
   "source": [
    "train_dataset = CustomDataset(data_train.tokenized_tokens, pd.Categorical(data_train.train_data.category).codes)"
   ]
  },
  {
   "cell_type": "code",
   "execution_count": 85,
   "metadata": {},
   "outputs": [],
   "source": [
    "test_dataset = CustomDataset(data_test.tokenized_tokens, pd.Categorical(data_test.test_data.category).codes)"
   ]
  },
  {
   "cell_type": "code",
   "execution_count": 78,
   "metadata": {},
   "outputs": [],
   "source": [
    "def collate_batch(batch):\n",
    "    label_list, text_list, offsets = [], [], [0]\n",
    "#     for (_text, _label) in batch:\n",
    "    for _item in batch:\n",
    "         _label, _text = _item[\"label\"], _item[\"text\"]\n",
    "         label_list.append(_label)\n",
    "         processed_text = _text\n",
    "         text_list.append(processed_text)\n",
    "#          print(\"&&&&&&&\", processed_text, _text)\n",
    "         offsets.append(processed_text.size(0))\n",
    "    label_list = torch.tensor(label_list, dtype=torch.int64)\n",
    "    offsets = torch.tensor(offsets[:-1]).cumsum(dim=0)\n",
    "    text_list = torch.cat(text_list)\n",
    "    return label_list, text_list, offsets\n"
   ]
  },
  {
   "cell_type": "code",
   "execution_count": 79,
   "metadata": {},
   "outputs": [],
   "source": [
    "dataloader = DataLoader(train_dataset, batch_size=8, shuffle=False, collate_fn=collate_batch)"
   ]
  },
  {
   "cell_type": "code",
   "execution_count": 80,
   "metadata": {},
   "outputs": [],
   "source": [
    "from torch import nn\n",
    "\n",
    "class TextClassificationModel(nn.Module):\n",
    "\n",
    "    def __init__(self, vocab_size, embed_dim, num_class):\n",
    "        super(TextClassificationModel, self).__init__()\n",
    "        self.embedding = nn.EmbeddingBag(vocab_size, embed_dim, sparse=True)\n",
    "        self.fc = nn.Linear(embed_dim, num_class)\n",
    "        self.init_weights()\n",
    "\n",
    "    def init_weights(self):\n",
    "        initrange = 0.5\n",
    "        self.embedding.weight.data.uniform_(-initrange, initrange)\n",
    "        self.fc.weight.data.uniform_(-initrange, initrange)\n",
    "        self.fc.bias.data.zero_()\n",
    "\n",
    "    def forward(self, text, offsets):\n",
    "        embedded = self.embedding(text, offsets)\n",
    "        return self.fc(embedded)"
   ]
  },
  {
   "cell_type": "code",
   "execution_count": 81,
   "metadata": {},
   "outputs": [],
   "source": [
    "vocab_size = len(data_train.word_to_index)\n",
    "emsize = 64\n",
    "model = TextClassificationModel(vocab_size, emsize, 10)"
   ]
  },
  {
   "cell_type": "code",
   "execution_count": 82,
   "metadata": {},
   "outputs": [],
   "source": [
    "import time\n",
    "\n",
    "def train(dataloader):\n",
    "    model.train()\n",
    "    total_acc, total_count = 0, 0\n",
    "    log_interval = 500\n",
    "    start_time = time.time()\n",
    "    for idx, (label, text, offsets) in enumerate(dataloader):\n",
    "        optimizer.zero_grad()\n",
    "        predited_label = model(text, offsets)\n",
    "        loss = criterion(predited_label, label)\n",
    "        loss.backward()\n",
    "        torch.nn.utils.clip_grad_norm_(model.parameters(), 0.1)\n",
    "        optimizer.step()\n",
    "        total_acc += (predited_label.argmax(1) == label).sum().item()\n",
    "        total_count += label.size(0)\n",
    "        if idx % log_interval == 0 and idx > 0:\n",
    "            elapsed = time.time() - start_time\n",
    "            print('| epoch {:3d} | {:5d}/{:5d} batches '\n",
    "                  '| accuracy {:8.3f}'.format(epoch, idx, len(dataloader),\n",
    "                                              total_acc/total_count))\n",
    "            total_acc, total_count = 0, 0\n",
    "            start_time = time.time()\n",
    "\n",
    "def evaluate(dataloader):\n",
    "    model.eval()\n",
    "    total_acc, total_count = 0, 0\n",
    "\n",
    "    with torch.no_grad():\n",
    "        for idx, (label, text, offsets) in enumerate(dataloader):\n",
    "            predited_label = model(text, offsets)\n",
    "            loss = criterion(predited_label, label)\n",
    "            total_acc += (predited_label.argmax(1) == label).sum().item()\n",
    "            total_count += label.size(0)\n",
    "    return total_acc/total_count"
   ]
  },
  {
   "cell_type": "code",
   "execution_count": 86,
   "metadata": {},
   "outputs": [
    {
     "name": "stdout",
     "output_type": "stream",
     "text": [
      "| epoch   1 |   500/ 1739 batches | accuracy    0.764\n",
      "| epoch   1 |  1000/ 1739 batches | accuracy    0.758\n",
      "| epoch   1 |  1500/ 1739 batches | accuracy    0.759\n",
      "-----------------------------------------------------------\n",
      "| end of epoch   1 | time: 25.67s | valid accuracy    0.770 \n",
      "-----------------------------------------------------------\n",
      "| epoch   2 |   500/ 1739 batches | accuracy    0.766\n",
      "| epoch   2 |  1000/ 1739 batches | accuracy    0.765\n",
      "| epoch   2 |  1500/ 1739 batches | accuracy    0.763\n",
      "-----------------------------------------------------------\n",
      "| end of epoch   2 | time: 26.02s | valid accuracy    0.775 \n",
      "-----------------------------------------------------------\n",
      "| epoch   3 |   500/ 1739 batches | accuracy    0.768\n",
      "| epoch   3 |  1000/ 1739 batches | accuracy    0.768\n",
      "| epoch   3 |  1500/ 1739 batches | accuracy    0.765\n",
      "-----------------------------------------------------------\n",
      "| end of epoch   3 | time: 26.86s | valid accuracy    0.765 \n",
      "-----------------------------------------------------------\n",
      "| epoch   4 |   500/ 1739 batches | accuracy    0.789\n",
      "| epoch   4 |  1000/ 1739 batches | accuracy    0.785\n",
      "| epoch   4 |  1500/ 1739 batches | accuracy    0.788\n",
      "-----------------------------------------------------------\n",
      "| end of epoch   4 | time: 26.76s | valid accuracy    0.793 \n",
      "-----------------------------------------------------------\n",
      "| epoch   5 |   500/ 1739 batches | accuracy    0.789\n",
      "| epoch   5 |  1000/ 1739 batches | accuracy    0.786\n",
      "| epoch   5 |  1500/ 1739 batches | accuracy    0.789\n",
      "-----------------------------------------------------------\n",
      "| end of epoch   5 | time: 26.75s | valid accuracy    0.793 \n",
      "-----------------------------------------------------------\n",
      "| epoch   6 |   500/ 1739 batches | accuracy    0.791\n",
      "| epoch   6 |  1000/ 1739 batches | accuracy    0.790\n",
      "| epoch   6 |  1500/ 1739 batches | accuracy    0.794\n",
      "-----------------------------------------------------------\n",
      "| end of epoch   6 | time: 26.89s | valid accuracy    0.793 \n",
      "-----------------------------------------------------------\n",
      "| epoch   7 |   500/ 1739 batches | accuracy    0.793\n",
      "| epoch   7 |  1000/ 1739 batches | accuracy    0.791\n",
      "| epoch   7 |  1500/ 1739 batches | accuracy    0.790\n",
      "-----------------------------------------------------------\n",
      "| end of epoch   7 | time: 28.46s | valid accuracy    0.793 \n",
      "-----------------------------------------------------------\n",
      "| epoch   8 |   500/ 1739 batches | accuracy    0.790\n",
      "| epoch   8 |  1000/ 1739 batches | accuracy    0.790\n",
      "| epoch   8 |  1500/ 1739 batches | accuracy    0.793\n",
      "-----------------------------------------------------------\n",
      "| end of epoch   8 | time: 27.66s | valid accuracy    0.793 \n",
      "-----------------------------------------------------------\n",
      "| epoch   9 |   500/ 1739 batches | accuracy    0.790\n",
      "| epoch   9 |  1000/ 1739 batches | accuracy    0.791\n",
      "| epoch   9 |  1500/ 1739 batches | accuracy    0.790\n",
      "-----------------------------------------------------------\n",
      "| end of epoch   9 | time: 28.93s | valid accuracy    0.793 \n",
      "-----------------------------------------------------------\n",
      "| epoch  10 |   500/ 1739 batches | accuracy    0.786\n",
      "| epoch  10 |  1000/ 1739 batches | accuracy    0.795\n",
      "| epoch  10 |  1500/ 1739 batches | accuracy    0.791\n",
      "-----------------------------------------------------------\n",
      "| end of epoch  10 | time: 27.95s | valid accuracy    0.793 \n",
      "-----------------------------------------------------------\n"
     ]
    }
   ],
   "source": [
    "from torch.utils.data.dataset import random_split\n",
    "# Hyperparameters\n",
    "EPOCHS = 10 # epoch\n",
    "LR = 5  # learning rate\n",
    "BATCH_SIZE = 64 # batch size for training\n",
    "\n",
    "criterion = torch.nn.CrossEntropyLoss()\n",
    "optimizer = torch.optim.SGD(model.parameters(), lr=LR)\n",
    "scheduler = torch.optim.lr_scheduler.StepLR(optimizer, 1.0, gamma=0.1)\n",
    "total_accu = None\n",
    "\n",
    "train_dataset = list(train_dataset)\n",
    "test_dataset = list(test_dataset)\n",
    "num_train = int(len(train_dataset) * 0.95)\n",
    "split_train_, split_valid_ = \\\n",
    "    random_split(train_dataset, [num_train, len(train_dataset) - num_train])\n",
    "\n",
    "train_dataloader = DataLoader(split_train_, batch_size=BATCH_SIZE,\n",
    "                              shuffle=True, collate_fn=collate_batch)\n",
    "valid_dataloader = DataLoader(split_valid_, batch_size=BATCH_SIZE,\n",
    "                              shuffle=True, collate_fn=collate_batch)\n",
    "test_dataloader = DataLoader(test_dataset, batch_size=BATCH_SIZE,\n",
    "                             shuffle=True, collate_fn=collate_batch)\n",
    "\n",
    "\n",
    "for epoch in range(1, EPOCHS + 1):\n",
    "    epoch_start_time = time.time()\n",
    "    train(train_dataloader)\n",
    "    accu_val = evaluate(valid_dataloader)\n",
    "    if total_accu is not None and total_accu > accu_val:\n",
    "      scheduler.step()\n",
    "    else:\n",
    "       total_accu = accu_val\n",
    "    print('-' * 59)\n",
    "    print('| end of epoch {:3d} | time: {:5.2f}s | '\n",
    "          'valid accuracy {:8.3f} '.format(epoch,\n",
    "                                           time.time() - epoch_start_time,\n",
    "                                           accu_val))\n",
    "    print('-' * 59)"
   ]
  },
  {
   "cell_type": "code",
   "execution_count": 87,
   "metadata": {},
   "outputs": [
    {
     "name": "stdout",
     "output_type": "stream",
     "text": [
      "Checking the results of test dataset.\n",
      "test accuracy    0.306\n"
     ]
    }
   ],
   "source": [
    "print('Checking the results of test dataset.')\n",
    "accu_test = evaluate(test_dataloader)\n",
    "print('test accuracy {:8.3f}'.format(accu_test))"
   ]
  },
  {
   "cell_type": "code",
   "execution_count": null,
   "metadata": {},
   "outputs": [],
   "source": []
  }
 ],
 "metadata": {
  "kernelspec": {
   "display_name": "Python 3",
   "language": "python",
   "name": "python3"
  },
  "language_info": {
   "codemirror_mode": {
    "name": "ipython",
    "version": 3
   },
   "file_extension": ".py",
   "mimetype": "text/x-python",
   "name": "python",
   "nbconvert_exporter": "python",
   "pygments_lexer": "ipython3",
   "version": "3.8.3"
  }
 },
 "nbformat": 4,
 "nbformat_minor": 4
}
